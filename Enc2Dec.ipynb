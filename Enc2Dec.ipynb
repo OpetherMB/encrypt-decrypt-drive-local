{
  "nbformat": 4,
  "nbformat_minor": 0,
  "metadata": {
    "colab": {
      "name": "Enc2Dec.ipynb",
      "provenance": [],
      "collapsed_sections": []
    },
    "kernelspec": {
      "name": "python3",
      "display_name": "Python 3"
    }
  },
  "cells": [
    {
      "cell_type": "code",
      "metadata": {
        "id": "Ah6Qkwd65vp0",
        "colab_type": "code",
        "colab": {
          "base_uri": "https://localhost:8080/",
          "height": 118
        },
        "outputId": "b8b9f3cf-d0fd-4617-ad82-7561ed90dae2"
      },
      "source": [
        "!pip install python-docx\n",
        "!pip install cryptography"
      ],
      "execution_count": 94,
      "outputs": [
        {
          "output_type": "stream",
          "text": [
            "Requirement already satisfied: python-docx in /usr/local/lib/python3.6/dist-packages (0.8.10)\n",
            "Requirement already satisfied: lxml>=2.3.2 in /usr/local/lib/python3.6/dist-packages (from python-docx) (4.2.6)\n",
            "Requirement already satisfied: cryptography in /usr/local/lib/python3.6/dist-packages (2.9)\n",
            "Requirement already satisfied: six>=1.4.1 in /usr/local/lib/python3.6/dist-packages (from cryptography) (1.12.0)\n",
            "Requirement already satisfied: cffi!=1.11.3,>=1.8 in /usr/local/lib/python3.6/dist-packages (from cryptography) (1.14.0)\n",
            "Requirement already satisfied: pycparser in /usr/local/lib/python3.6/dist-packages (from cffi!=1.11.3,>=1.8->cryptography) (2.20)\n"
          ],
          "name": "stdout"
        }
      ]
    },
    {
      "cell_type": "code",
      "metadata": {
        "id": "b536e3Z-6UzE",
        "colab_type": "code",
        "colab": {
          "base_uri": "https://localhost:8080/",
          "height": 34
        },
        "outputId": "465de3d5-46ce-4db1-82f1-be8ec51ab484"
      },
      "source": [
        "from google.colab import drive\n",
        "drive.mount('/content/drive')\n",
        "\n",
        "import sys\n",
        "import os\n",
        "import getpass \n",
        "import docx\n",
        "from cryptography.fernet import Fernet\n",
        "\n",
        "import email, smtplib, ssl\n",
        "from email import encoders\n",
        "from email.mime.base import MIMEBase\n",
        "from email.mime.multipart import MIMEMultipart\n",
        "from email.mime.text import MIMEText"
      ],
      "execution_count": 95,
      "outputs": [
        {
          "output_type": "stream",
          "text": [
            "Drive already mounted at /content/drive; to attempt to forcibly remount, call drive.mount(\"/content/drive\", force_remount=True).\n"
          ],
          "name": "stdout"
        }
      ]
    },
    {
      "cell_type": "code",
      "metadata": {
        "id": "SSX6CfbX57JU",
        "colab_type": "code",
        "colab": {}
      },
      "source": [
        "# # change type from docx to txt\n",
        "\n",
        "# for File in os.listdir(input_file): \n",
        "#     doc = docx.Document(os.path.join(input_file,File) )\n",
        "#     result = [p.text for p in doc.paragraphs]\n",
        "\n",
        "#     with open(os.path.join(destination_file , File.split('.docx')[0]+\".txt\") , 'w') as f:\n",
        "#           f.writelines(\"%s\\n\" % line for line in result)\n",
        "#           f.close()"
      ],
      "execution_count": 0,
      "outputs": []
    },
    {
      "cell_type": "code",
      "metadata": {
        "id": "2AfAaoFC57Ar",
        "colab_type": "code",
        "colab": {}
      },
      "source": [
        "def send_mail(sender_email, receiver_email, subject, password , output_file ):\n",
        "    # Create a multipart message and set headers\n",
        "    message = MIMEMultipart()\n",
        "    message[\"From\"] = sender_email\n",
        "    message[\"To\"] = receiver_email\n",
        "    message[\"Subject\"] = subject\n",
        "    message[\"Bcc\"] = receiver_email  # Recommended for mass emails\n",
        "\n",
        "    # Add body to email\n",
        "    message.attach(MIMEText(body, \"plain\"))\n",
        "\n",
        "    filename = output_file  \n",
        "\n",
        "    with open(filename, \"rb\") as attachment:\n",
        "        # Add file as application/octet-stream\n",
        "        # Email client can usually download this automatically as attachment\n",
        "        part = MIMEBase(\"application\", \"octet-stream\")\n",
        "        part.set_payload(attachment.read())\n",
        "\n",
        "    # Encode file in ASCII characters to send by email    \n",
        "    encoders.encode_base64(part)\n",
        "\n",
        "    # Add header as key/value pair to attachment part\n",
        "    part.add_header(\n",
        "        \"Content-Disposition\",\n",
        "        f\"attachment; filename= {filename}\",\n",
        "    )\n",
        "\n",
        "    # Add attachment to message and convert message to string\n",
        "    message.attach(part)\n",
        "    text = message.as_string()\n",
        "\n",
        "    # Log in to server using secure context and send email\n",
        "    context = ssl.create_default_context()\n",
        "    with smtplib.SMTP_SSL(\"smtp.gmail.com\", 465, context=context) as server:\n",
        "        server.login(sender_email, password)\n",
        "        server.sendmail(sender_email, receiver_email, text)"
      ],
      "execution_count": 0,
      "outputs": []
    },
    {
      "cell_type": "code",
      "metadata": {
        "id": "LWmfenUE7nPy",
        "colab_type": "code",
        "colab": {}
      },
      "source": [
        "def Encryption_(destination_file, input_folder , key):\n",
        "\n",
        "      for File in os.listdir(input_folder):\n",
        "\n",
        "          input_file = os.path.join(input_folder, File )\n",
        "          output_file = os.path.join(destination_file, File.split('.txt')[0]+'.encrypted')\n",
        "\n",
        "          with open(input_file, 'rb') as f:\n",
        "              data = f.read()\n",
        "\n",
        "          fernet = Fernet(key)\n",
        "          encrypted = fernet.encrypt(data)\n",
        "\n",
        "          with open(output_file, 'wb') as f:\n",
        "              f.write(encrypted)"
      ],
      "execution_count": 0,
      "outputs": []
    },
    {
      "cell_type": "code",
      "metadata": {
        "id": "cUYApmYYIc-6",
        "colab_type": "code",
        "colab": {}
      },
      "source": [
        "# You can delete input_file if you want\n",
        "# And then to decrypt a file:\n",
        "\n",
        "def Decryption_(destination_file, input_folder, FileWanted, password ,key, send_mail):\n",
        "      for File in os.listdir(destination_file):\n",
        "\n",
        "          input_file =  os.path.join(destination_file, File )\n",
        "          outp_ext = File.split('.encrypted')[0]+'.txt'\n",
        "          output_file =  os.path.join(input_folder, outp_ext )\n",
        "\n",
        "          with open(input_file, 'rb') as f:\n",
        "              data = f.read()\n",
        "\n",
        "          fernet = Fernet(key)\n",
        "          encrypted = fernet.decrypt(data)\n",
        "\n",
        "          with open(output_file, 'wb') as f:\n",
        "              f.write(encrypted)\n",
        "\n",
        "      # You can delete input_file if you want\n",
        "          if outp_ext == FileWanted :\n",
        "            send_mail(sender_email, receiver_email, subject, password , output_file)\n"
      ],
      "execution_count": 0,
      "outputs": []
    },
    {
      "cell_type": "code",
      "metadata": {
        "id": "MhD8r2c_fcHW",
        "colab_type": "code",
        "colab": {
          "base_uri": "https://localhost:8080/",
          "height": 101
        },
        "outputId": "b702f508-c0ec-45c1-ce8d-d41c42cb3502"
      },
      "source": [
        "input_folder = \"/content/drive/My Drive/temp\"\n",
        "destination_file  =\"/content/drive/My Drive/text_files\"\n",
        "\n",
        "###email data \n",
        "subject = \"crypted data from frive to you\"\n",
        "body = \"This is an email with attachment sent from Python\"\n",
        "sender_email = \"********@gmail.com\"\n",
        "receiver_email = \"****************@gmail.com\"\n",
        "\n",
        "###file wanted\n",
        "FileWanted = 'Bos.txt'\n",
        "\n",
        "try: \n",
        "    print(\"enter email app code ! \")\n",
        "    password  = getpass.getpass() \n",
        "except Exception as error: \n",
        "    print('ERROR', error) \n",
        "\n",
        "\n",
        "try: \n",
        "    print(\"enter the key for encryption\")\n",
        "    key = getpass.getpass()\n",
        "    key = bytes(key, encoding='utf-8')\n",
        "\n",
        "except Exception as error:\n",
        "    print('ERROR', error)\n",
        "\n",
        "# uncomment to encrypt\n",
        "\n",
        "# Encrypt_(destination_file, input_folder , key)\n",
        "\n",
        "#  to decrypt and recieve email \n",
        "\n",
        "Decryption_(destination_file, input_folder,FileWanted , password, key, send_mail) \n",
        "\n",
        "key = \" \"\n",
        "password = \" \"\n",
        "\n",
        "# delete all data \n",
        "[ os.remove(os.path.join(input_folder , File) ) for File in os.listdir(input_folder) ]"
      ],
      "execution_count": 151,
      "outputs": [
        {
          "output_type": "stream",
          "text": [
            "enter email app code ! \n",
            "··········\n",
            "enter the key for encryption\n",
            "··········\n"
          ],
          "name": "stdout"
        },
        {
          "output_type": "execute_result",
          "data": {
            "text/plain": [
              "[None, None, None, None, None, None, None, None, None, None, None]"
            ]
          },
          "metadata": {
            "tags": []
          },
          "execution_count": 151
        }
      ]
    }
  ]
}
