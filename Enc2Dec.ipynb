{
  "nbformat": 4,
  "nbformat_minor": 0,
  "metadata": {
    "colab": {
      "name": "Enc2Dec.ipynb",
      "provenance": [],
      "collapsed_sections": [],
      "authorship_tag": "ABX9TyMF23kHIjkwlpyAYmmVDqB1",
      "include_colab_link": true
    },
    "kernelspec": {
      "name": "python3",
      "display_name": "Python 3"
    }
  },
  "cells": [
    {
      "cell_type": "markdown",
      "metadata": {
        "id": "view-in-github",
        "colab_type": "text"
      },
      "source": [
        "<a href=\"https://colab.research.google.com/github/OpetherMB/encrypt-decrypt-drive-local/blob/master/Enc2Dec.ipynb\" target=\"_parent\"><img src=\"https://colab.research.google.com/assets/colab-badge.svg\" alt=\"Open In Colab\"/></a>"
      ]
    },
    {
      "cell_type": "code",
      "metadata": {
        "id": "Ah6Qkwd65vp0",
        "colab": {
          "base_uri": "https://localhost:8080/"
        },
        "outputId": "cfb3c718-35b9-4262-e9c3-cc02eac142a1"
      },
      "source": [
        "!pip install python-docx\n",
        "!pip install cryptography"
      ],
      "execution_count": 1,
      "outputs": [
        {
          "output_type": "stream",
          "text": [
            "Collecting python-docx\n",
            "\u001b[?25l  Downloading https://files.pythonhosted.org/packages/e4/83/c66a1934ed5ed8ab1dbb9931f1779079f8bca0f6bbc5793c06c4b5e7d671/python-docx-0.8.10.tar.gz (5.5MB)\n",
            "\u001b[K     |████████████████████████████████| 5.5MB 9.7MB/s \n",
            "\u001b[?25hRequirement already satisfied: lxml>=2.3.2 in /usr/local/lib/python3.6/dist-packages (from python-docx) (4.2.6)\n",
            "Building wheels for collected packages: python-docx\n",
            "  Building wheel for python-docx (setup.py) ... \u001b[?25l\u001b[?25hdone\n",
            "  Created wheel for python-docx: filename=python_docx-0.8.10-cp36-none-any.whl size=184491 sha256=c65ec5ab1264cd4362df08486b8c47b17aca8289e24e83d05261a9e2d4a063a1\n",
            "  Stored in directory: /root/.cache/pip/wheels/18/0b/a0/1dd62ff812c857c9e487f27d80d53d2b40531bec1acecfa47b\n",
            "Successfully built python-docx\n",
            "Installing collected packages: python-docx\n",
            "Successfully installed python-docx-0.8.10\n",
            "Collecting cryptography\n",
            "\u001b[?25l  Downloading https://files.pythonhosted.org/packages/c9/de/7054df0620b5411ba45480f0261e1fb66a53f3db31b28e3aa52c026e72d9/cryptography-3.3.1-cp36-abi3-manylinux2010_x86_64.whl (2.6MB)\n",
            "\u001b[K     |████████████████████████████████| 2.6MB 10.3MB/s \n",
            "\u001b[?25hRequirement already satisfied: cffi>=1.12 in /usr/local/lib/python3.6/dist-packages (from cryptography) (1.14.4)\n",
            "Requirement already satisfied: six>=1.4.1 in /usr/local/lib/python3.6/dist-packages (from cryptography) (1.15.0)\n",
            "Requirement already satisfied: pycparser in /usr/local/lib/python3.6/dist-packages (from cffi>=1.12->cryptography) (2.20)\n",
            "Installing collected packages: cryptography\n",
            "Successfully installed cryptography-3.3.1\n"
          ],
          "name": "stdout"
        }
      ]
    },
    {
      "cell_type": "code",
      "metadata": {
        "id": "b536e3Z-6UzE",
        "colab": {
          "base_uri": "https://localhost:8080/"
        },
        "outputId": "8dbc6115-4a5f-4015-b49d-29aafe1a3a4c"
      },
      "source": [
        "from google.colab import drive\n",
        "drive.mount('/content/drive')\n",
        "\n",
        "import sys\n",
        "import os\n",
        "import getpass\n",
        "import docx\n",
        "from cryptography.fernet import Fernet\n",
        "\n",
        "import email, smtplib, ssl\n",
        "from email import encoders\n",
        "from email.mime.base import MIMEBase\n",
        "from email.mime.multipart import MIMEMultipart\n",
        "from email.mime.text import MIMEText"
      ],
      "execution_count": 2,
      "outputs": [
        {
          "output_type": "stream",
          "text": [
            "Mounted at /content/drive\n"
          ],
          "name": "stdout"
        }
      ]
    },
    {
      "cell_type": "code",
      "metadata": {
        "id": "SSX6CfbX57JU"
      },
      "source": [
        "# # change type from docx to txt\n",
        "# input_file = '/content/drive/My Drive/temp'\n",
        "\n",
        "# for File in os.listdir(input_file): \n",
        "#   if File.endswith('.docx'):\n",
        "#       doc = docx.Document(os.path.join(input_file,File) )\n",
        "#       result = [p.text for p in doc.paragraphs]\n",
        "\n",
        "#       with open(os.path.join(input_file , File.split('.docx')[0]+\".txt\") , 'w') as f:\n",
        "#             f.writelines(\"%s\\n\" % line for line in result)\n",
        "#             f.close()\n",
        "\n",
        "# add gdoc reader "
      ],
      "execution_count": 3,
      "outputs": []
    },
    {
      "cell_type": "code",
      "metadata": {
        "id": "2AfAaoFC57Ar"
      },
      "source": [
        "def send_mail(sender_email, receiver_email, subject, password , output_file ):\n",
        "    # Create a multipart message and set headers\n",
        "    message = MIMEMultipart()\n",
        "    message[\"From\"] = sender_email\n",
        "    message[\"To\"] = receiver_email\n",
        "    message[\"Subject\"] = subject\n",
        "    message[\"Bcc\"] = receiver_email  # Recommended for mass emails\n",
        "\n",
        "    # Add body to email\n",
        "    message.attach(MIMEText(body, \"plain\"))\n",
        "\n",
        "    filename = output_file  \n",
        "\n",
        "    with open(filename, \"rb\") as attachment:\n",
        "        # Add file as application/octet-stream\n",
        "        # Email client can usually download this automatically as attachment\n",
        "        part = MIMEBase(\"application\", \"octet-stream\")\n",
        "        part.set_payload(attachment.read())\n",
        "\n",
        "    # Encode file in ASCII characters to send by email    \n",
        "    encoders.encode_base64(part)\n",
        "\n",
        "    # Add header as key/value pair to attachment part\n",
        "    part.add_header(\n",
        "        \"Content-Disposition\",\n",
        "        f\"attachment; filename= {filename}\",\n",
        "    )\n",
        "\n",
        "    # Add attachment to message and convert message to string\n",
        "    message.attach(part)\n",
        "    text = message.as_string()\n",
        "\n",
        "    # Log in to server using secure context and send email\n",
        "    context = ssl.create_default_context()\n",
        "    with smtplib.SMTP_SSL(\"smtp.gmail.com\", 465, context=context) as server:\n",
        "        server.login(sender_email, password)\n",
        "        server.sendmail(sender_email, receiver_email, text)"
      ],
      "execution_count": 4,
      "outputs": []
    },
    {
      "cell_type": "code",
      "metadata": {
        "id": "LWmfenUE7nPy"
      },
      "source": [
        "def Encryption_(destination_file, input_folder , key):\n",
        "\n",
        "      for File in os.listdir(input_folder):\n",
        "\n",
        "          input_file = os.path.join(input_folder, File )\n",
        "          output_file = os.path.join(destination_file, File.split('.txt')[0]+'.encrypted')\n",
        "\n",
        "          with open(input_file, 'rb') as f:\n",
        "              data = f.read()\n",
        "\n",
        "          fernet = Fernet(key)\n",
        "          encrypted = fernet.encrypt(data)\n",
        "\n",
        "          with open(output_file, 'wb') as f:\n",
        "              f.write(encrypted)"
      ],
      "execution_count": 5,
      "outputs": []
    },
    {
      "cell_type": "code",
      "metadata": {
        "id": "cUYApmYYIc-6"
      },
      "source": [
        "# You can delete input_file if you want\n",
        "# And then to decrypt a file:\n",
        "\n",
        "def TreatFile(destination_file, File, input_folder, key):\n",
        "         input_file =  os.path.join(destination_file, File )\n",
        "         outp_ext = File.split('.encrypted')[0]+'.txt'\n",
        "         output_file =  os.path.join(input_folder, outp_ext )\n",
        "\n",
        "         with open(input_file, 'rb') as f:\n",
        "                  data = f.read()\n",
        "\n",
        "         fernet = Fernet(key)\n",
        "         encrypted = fernet.decrypt(data)\n",
        "\n",
        "         with open(output_file, 'wb') as f:\n",
        "                  f.write(encrypted)\n",
        "\n",
        "         return output_file                  \n",
        "\n",
        "\n",
        "def Decryption_(destination_file, input_folder, FileWanted, password ,key , flag ,send_mail ):\n",
        "      \n",
        "      if flag : \n",
        "              \n",
        "              output_file = TreatFile(destination_file, FileWanted, input_folder, key)\n",
        "              send_mail(sender_email, receiver_email, subject, password , output_file)\n",
        "        \n",
        "\n",
        "\n",
        "      else :   \n",
        "          for File in os.listdir(destination_file):\n",
        "              \n",
        "              output_file = TreatFile(destination_file, File, input_folder, key)\n",
        "              send_mail(sender_email, receiver_email, subject, password , output_file)\n"
      ],
      "execution_count": 6,
      "outputs": []
    },
    {
      "cell_type": "code",
      "metadata": {
        "id": "MhD8r2c_fcHW",
        "colab": {
          "base_uri": "https://localhost:8080/"
        },
        "outputId": "31dcb527-581d-41a1-bcb4-6e4e7b68a406"
      },
      "source": [
        "########\n",
        "input_folder = \"/content/drive/My Drive/temp\"\n",
        "destination_file  =\"/content/drive/My Drive/text_files\"\n",
        "\n",
        "###email data \n",
        "body = \"This is an email with attachment sent from Python\"\n",
        "sender_email = \"maroubenm225@gmail.com\"\n",
        "receiver_email = \"maroubenm@outlook.com\"\n",
        "\n",
        "### args\n",
        "\n",
        "send_email = True\n",
        "encrypt = False\n",
        "decrypt = True \n",
        "FileWanted = 'Lc..ban.encrypted'\n",
        "\n",
        "subject = \"crypted data from drive to you\"+FileWanted\n",
        "\n",
        "#########\n",
        "\n",
        "if send_email:\n",
        "  try: \n",
        "      print(\"enter email app code ! \")\n",
        "      password  = getpass.getpass() \n",
        "  except Exception as error: \n",
        "      print('ERROR', error) \n",
        "\n",
        "\n",
        "try: \n",
        "    print(\"enter the key for encryption\")\n",
        "    key = getpass.getpass()\n",
        "    key = bytes(key, encoding='utf-8')\n",
        "\n",
        "except Exception as error:\n",
        "    print('ERROR', error)\n",
        "\n",
        "\n",
        "if encrypt : \n",
        "    Encryption_(destination_file, input_folder , key)\n",
        "\n",
        "\n",
        "if decrypt : \n",
        "    Decryption_(destination_file, input_folder,FileWanted , password, key, True ,send_mail) \n",
        "\n",
        "key = \" \"\n",
        "password = \" \"\n",
        "\n",
        "# delete all data \n",
        "[ os.remove(os.path.join(input_folder , File) ) for File in os.listdir(input_folder) ]"
      ],
      "execution_count": 10,
      "outputs": [
        {
          "output_type": "stream",
          "text": [
            "enter email app code ! \n",
            "··········\n",
            "enter the key for encryption\n",
            "··········\n"
          ],
          "name": "stdout"
        },
        {
          "output_type": "execute_result",
          "data": {
            "text/plain": [
              "[None]"
            ]
          },
          "metadata": {
            "tags": []
          },
          "execution_count": 10
        }
      ]
    },
    {
      "cell_type": "code",
      "metadata": {
        "id": "Rweapkstq1sU"
      },
      "source": [
        ""
      ],
      "execution_count": null,
      "outputs": []
    }
  ]
}